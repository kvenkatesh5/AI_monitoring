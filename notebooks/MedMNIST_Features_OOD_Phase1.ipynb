{
 "cells": [
  {
   "cell_type": "markdown",
   "id": "34dc938b",
   "metadata": {},
   "source": [
    "# MedMNIST OOD Detection: Phase 1\n",
    "\n",
    "__Identify out-of-modality images in a dataset of abnominal CTs (from three views: axial, saggital, coronal).__"
   ]
  },
  {
   "cell_type": "code",
   "execution_count": 1,
   "id": "07c68eff",
   "metadata": {},
   "outputs": [],
   "source": [
    "import os\n",
    "import json\n",
    "import random\n",
    "import time\n",
    "import sys\n",
    "sys.path.append(\"..\")\n",
    "from abc import ABC, abstractmethod\n",
    "\n",
    "from tqdm import tqdm\n",
    "import numpy as np\n",
    "import matplotlib.pyplot as plt\n",
    "import seaborn as sns\n",
    "import torch\n",
    "import torch.nn as nn\n",
    "import torch.nn.functional as F\n",
    "from torch.utils.data import DataLoader, Dataset, Subset\n",
    "from torchvision import transforms, datasets\n",
    "from torchvision.models import resnet18\n",
    "from sklearn.linear_model import LogisticRegression\n",
    "from sklearn.neural_network import MLPClassifier\n",
    "from sklearn.metrics import roc_auc_score\n",
    "from sklearn.decomposition import PCA\n",
    "from sklearn.manifold import TSNE\n",
    "from sklearn.ensemble import RandomForestClassifier\n",
    "from scipy.spatial.distance import cdist\n",
    "from medmnist_datasets import AbnominalCTDataset\n",
    "from utils import SupConLoss\n",
    "from networks.resnet_big import SupConResNet\n",
    "\n",
    "with open(\"../cfg.json\", \"r\") as f:\n",
    "    cfg = json.load(f)"
   ]
  },
  {
   "cell_type": "markdown",
   "id": "7a8ea507",
   "metadata": {},
   "source": [
    "## Data"
   ]
  },
  {
   "cell_type": "markdown",
   "id": "1dff79e3",
   "metadata": {},
   "source": [
    "Source: https://medmnist.com/\n",
    "\n",
    "Task: Distinguish axial views from sagittal/coronal views on abdominal CT scans from the Organ{A/C/S} Medical MNIST dataset. (The axial view was chosen as \"OOD\" since it was the most difficult for a logistic regression classifier to distinguish.)\n",
    "\n",
    "Dataset Transforms:  ToTensor, Normalization (mu=0.5, std=0.5)\n",
    "\n",
    "Training Transforms: RandomResized Crop, Rotations (+- 10 degrees), ToTensor, Normalization (mu=0.5, std=0.5)"
   ]
  },
  {
   "cell_type": "code",
   "execution_count": 2,
   "id": "21a64b10",
   "metadata": {},
   "outputs": [
    {
     "name": "stdout",
     "output_type": "stream",
     "text": [
      "Using downloaded and verified file: /cis/home/kvenka10/my_documents/contrastive-ood/data/organamnist.npz\n",
      "Using downloaded and verified file: /cis/home/kvenka10/my_documents/contrastive-ood/data/organcmnist.npz\n",
      "Using downloaded and verified file: /cis/home/kvenka10/my_documents/contrastive-ood/data/organsmnist.npz\n",
      "Using downloaded and verified file: /cis/home/kvenka10/my_documents/contrastive-ood/data/organamnist.npz\n",
      "Using downloaded and verified file: /cis/home/kvenka10/my_documents/contrastive-ood/data/organcmnist.npz\n",
      "Using downloaded and verified file: /cis/home/kvenka10/my_documents/contrastive-ood/data/organsmnist.npz\n",
      "Using downloaded and verified file: /cis/home/kvenka10/my_documents/contrastive-ood/data/organamnist.npz\n",
      "Using downloaded and verified file: /cis/home/kvenka10/my_documents/contrastive-ood/data/organcmnist.npz\n",
      "Using downloaded and verified file: /cis/home/kvenka10/my_documents/contrastive-ood/data/organsmnist.npz\n"
     ]
    }
   ],
   "source": [
    "# Baseline tr\n",
    "data_transform = transforms.Compose([\n",
    "    transforms.ToTensor(),\n",
    "    transforms.Normalize(mean=[.5], std=[.5])\n",
    "])\n",
    "\n",
    "positive_dataset=\"organamnist\"\n",
    "\n",
    "\"\"\"training dataset\"\"\"\n",
    "train_set = AbnominalCTDataset(data_dir=cfg[\"data_dir\"], label_mode=\"cheap-supervised\",\n",
    "                       positive_dataset=positive_dataset, tfms=data_transform,\n",
    "                       split=\"train\")\n",
    "\n",
    "\"\"\"val dataset\"\"\"\n",
    "val_set = AbnominalCTDataset(data_dir=cfg[\"data_dir\"], label_mode=\"cheap-supervised\",\n",
    "                       positive_dataset=positive_dataset, tfms=data_transform,\n",
    "                       split=\"val\")\n",
    "\"\"\"testing dataset\"\"\"\n",
    "test_set = AbnominalCTDataset(data_dir=cfg[\"data_dir\"], label_mode=\"cheap-supervised\",\n",
    "                       positive_dataset=positive_dataset, tfms=data_transform,\n",
    "                       split=\"test\")"
   ]
  },
  {
   "cell_type": "code",
   "execution_count": 3,
   "id": "ce1391a6",
   "metadata": {},
   "outputs": [],
   "source": [
    "\"\"\"Matrixify fxn\"\"\"\n",
    "def matrixify(dset, label_mode=\"cheap-supervised\"):\n",
    "    if label_mode!=\"cheap-supervised\":\n",
    "        raise NotImplementedError(\"label mode not implemented: {}\".format(label_mode))\n",
    "    X = np.empty((len(dset), 28*28))\n",
    "    y = np.empty((len(dset)))\n",
    "    for i in tqdm(range(len(dset))):\n",
    "        image, label = dset[i]\n",
    "        X[i,:] = image.flatten()\n",
    "        y[i] = int(label)\n",
    "    y = y.astype(np.int)\n",
    "    return X,y"
   ]
  },
  {
   "cell_type": "code",
   "execution_count": 6,
   "id": "ba497640",
   "metadata": {},
   "outputs": [],
   "source": [
    "def view_organized_grid(dset: Dataset, random_seed=2023):\n",
    "    random.seed(random_seed)\n",
    "    fig, ax = plt.subplots(5,5, figsize=(12,12))\n",
    "    plt.tight_layout()\n",
    "    # first two rows will be in dist\n",
    "    for i in range(2):\n",
    "        for j in range(5):\n",
    "            r = random.randint(0, len(dset)-1)\n",
    "            while dset[r][1] != 1:\n",
    "                r = random.randint(0, len(dset)-1)\n",
    "#             print(dset[r][0].squeeze().max(), dset[r][0].squeeze().min())\n",
    "            ax[i][j].imshow(dset[r][0].squeeze(), cmap=\"gray\")\n",
    "    # last three rows are out of dist\n",
    "    for i in range(2,5):\n",
    "        for j in range(5):\n",
    "            r = random.randint(0, len(dset)-1)\n",
    "            while dset[r][1] != 0:\n",
    "                r = random.randint(0, len(dset)-1)\n",
    "            ax[i][j].imshow(dset[r][0].squeeze(), cmap=\"gray\")\n",
    "    # remove ticks\n",
    "    for i in range(5):\n",
    "        for j in range(5):\n",
    "            ax[i][j].set_xticks([])\n",
    "            ax[i][j].set_yticks([])"
   ]
  },
  {
   "cell_type": "code",
   "execution_count": 7,
   "id": "48cfa568",
   "metadata": {
    "scrolled": true
   },
   "outputs": [
    {
     "name": "stdout",
     "output_type": "stream",
     "text": [
      "Using downloaded and verified file: /cis/home/kvenka10/my_documents/contrastive-ood/data/organamnist.npz\n",
      "Using downloaded and verified file: /cis/home/kvenka10/my_documents/contrastive-ood/data/organcmnist.npz\n",
      "Using downloaded and verified file: /cis/home/kvenka10/my_documents/contrastive-ood/data/organsmnist.npz\n"
     ]
    },
    {
     "data": {
      "image/png": "[encoded data removed]",
      "text/plain": [
       "<Figure size 864x864 with 25 Axes>"
      ]
     },
     "metadata": {},
     "output_type": "display_data"
    }
   ],
   "source": [
    "# No normalization\n",
    "viewing_train_set = AbnominalCTDataset(data_dir=cfg[\"data_dir\"], label_mode=\"cheap-supervised\",\n",
    "                       positive_dataset=\"organamnist\", tfms=transforms.Compose([transforms.ToTensor()]),\n",
    "                       split=\"train\")\n",
    "view_organized_grid(viewing_train_set)"
   ]
  },
  {
   "cell_type": "markdown",
   "id": "8efb3835",
   "metadata": {},
   "source": [
    "## Classifiers"
   ]
  },
  {
   "cell_type": "code",
   "execution_count": 8,
   "id": "fe35e332",
   "metadata": {},
   "outputs": [],
   "source": [
    "\"\"\"\n",
    "Binary metrics fxns\n",
    "\"\"\"\n",
    "def get_binary_metrics(ytrue, yscore, ypred):\n",
    "    # compute accuracy\n",
    "    acc = np.sum(ytrue==ypred, dtype=np.float) / np.shape(ytrue)[0]\n",
    "    # make one-hot encoded true vector\n",
    "    y = np.zeros((ytrue.size, 2))\n",
    "    y[np.arange(ytrue.size), ytrue] = 1\n",
    "    # compute auroc\n",
    "    auc = roc_auc_score(y, yscore)\n",
    "    return acc, auc"
   ]
  },
  {
   "cell_type": "code",
   "execution_count": 9,
   "id": "4742b11f",
   "metadata": {},
   "outputs": [],
   "source": [
    "\"\"\"Train an MLP on the features\"\"\"\n",
    "def train_mlp(Xtrain, ytrain, Xtest, ytest, solver=\"adam\", activation=\"relu\", shuffle=True, random_state=2023):\n",
    "    mlp_classifier = MLPClassifier(\n",
    "        solver=solver,\n",
    "        activation=activation,\n",
    "        shuffle=shuffle,\n",
    "        random_state=random_state,\n",
    "        max_iter=500\n",
    "    )\n",
    "    \n",
    "    mlp_classifier.fit(Xtrain,ytrain)\n",
    "    ytrain_score = mlp_classifier.predict_proba(Xtrain)\n",
    "    ytrain_pred = ytrain_score.argmax(axis=1)\n",
    "    tr_acc, tr_auc = get_binary_metrics(ytrain, ytrain_score, ytrain_pred)\n",
    "\n",
    "    ytest_score = mlp_classifier.predict_proba(Xtest)\n",
    "    ytest_pred = ytest_score.argmax(axis=1)\n",
    "    tt_acc, tt_auc = get_binary_metrics(ytest, ytest_score, ytest_pred)\n",
    "\n",
    "    print(\"MLP Classifier: Training Accuracy {:.4f} | Training AUROC {:.4f}\".format(tr_acc, tr_auc))\n",
    "    print(\"MLP Classifier: Testing Accuracy {:.4f} | Testing AUROC {:.4f}\".format(tt_acc, tt_auc))\n",
    "    \n",
    "    return mlp_classifier, {\n",
    "        \"training_acc\": tr_acc,\n",
    "        \"training_auc\": tr_auc,\n",
    "        \"testing_acc\": tt_acc,\n",
    "        \"testing_auc\": tt_auc,\n",
    "    }"
   ]
  },
  {
   "cell_type": "code",
   "execution_count": 10,
   "id": "3b5c854e",
   "metadata": {},
   "outputs": [],
   "source": [
    "\"\"\"Logistic regression to classify examples (one vs. rest)\"\"\"\n",
    "def train_lgr(Xtrain, ytrain, Xtest, ytest, solver=\"lbfgs\", penalty=\"l2\", C=1.0, max_iter=100, random_state=2023):\n",
    "    lgr_classifier = LogisticRegression(\n",
    "        solver=solver,\n",
    "        penalty=penalty,\n",
    "        C=C,\n",
    "        max_iter=1000,\n",
    "        random_state=random_state,\n",
    "    )\n",
    "    \n",
    "    lgr_classifier.fit(Xtrain,ytrain)\n",
    "    ytrain_score = lgr_classifier.predict_proba(Xtrain)\n",
    "    ytrain_pred = ytrain_score.argmax(axis=1)\n",
    "    tr_acc, tr_auc = get_binary_metrics(ytrain, ytrain_score, ytrain_pred)\n",
    "\n",
    "    ytest_score = lgr_classifier.predict_proba(Xtest)\n",
    "    ytest_pred = ytest_score.argmax(axis=1)\n",
    "    tt_acc, tt_auc = get_binary_metrics(ytest, ytest_score, ytest_pred)\n",
    "\n",
    "    print(\"Logistic Regression: Training Accuracy {:.4f} | Training AUROC {:.4f}\".format(tr_acc, tr_auc))\n",
    "    print(\"Logistic Regression: Testing Accuracy {:.4f} | Testing AUROC {:.4f}\".format(tt_acc, tt_auc))\n",
    "    \n",
    "    return lgr_classifier, {\n",
    "        \"training_acc\": tr_acc,\n",
    "        \"training_auc\": tr_auc,\n",
    "        \"testing_acc\": tt_acc,\n",
    "        \"testing_auc\": tt_auc,\n",
    "    }"
   ]
  },
  {
   "cell_type": "code",
   "execution_count": 11,
   "id": "6ed79e3b",
   "metadata": {},
   "outputs": [],
   "source": [
    "\"\"\"Random forest to classify examples\"\"\"\n",
    "def train_rf(Xtrain, ytrain, Xtest, ytest, n_estimators=20, random_state=2023):\n",
    "    rf_model = RandomForestClassifier(\n",
    "        n_estimators=n_estimators,\n",
    "        random_state=random_state\n",
    "    )\n",
    "    rf_model.fit(Xtrain,ytrain)\n",
    "    ytrain_score = rf_model.predict_proba(Xtrain)\n",
    "    ytrain_pred = ytrain_score.argmax(axis=1)\n",
    "    tr_acc, tr_auc = get_binary_metrics(ytrain, ytrain_score, ytrain_pred)\n",
    "\n",
    "    ytest_score = rf_model.predict_proba(Xtest)\n",
    "    ytest_pred = ytest_score.argmax(axis=1)\n",
    "    tt_acc, tt_auc = get_binary_metrics(ytest, ytest_score, ytest_pred)\n",
    "\n",
    "    print(\"Random Forest: Training Accuracy {:.4f} | Training AUROC {:.4f}\".format(tr_acc, tr_auc))\n",
    "    print(\"Random Forest: Testing Accuracy {:.4f} | Testing AUROC {:.4f}\".format(tt_acc, tt_auc))\n",
    "    \n",
    "    return rf_model, {\n",
    "        \"training_acc\": tr_acc,\n",
    "        \"training_auc\": tr_auc,\n",
    "        \"testing_acc\": tt_acc,\n",
    "        \"testing_auc\": tt_auc,\n",
    "    }"
   ]
  },
  {
   "cell_type": "markdown",
   "id": "98d5dd8d",
   "metadata": {},
   "source": [
    "## Training classifiers"
   ]
  },
  {
   "cell_type": "code",
   "execution_count": 12,
   "id": "1e0593cc",
   "metadata": {
    "scrolled": false
   },
   "outputs": [
    {
     "name": "stderr",
     "output_type": "stream",
     "text": [
      "100%|██████████| 61521/61521 [00:09<00:00, 6683.09it/s]\n",
      "100%|██████████| 11335/11335 [00:01<00:00, 7304.05it/s]\n",
      "100%|██████████| 34875/34875 [00:04<00:00, 7428.57it/s]\n"
     ]
    }
   ],
   "source": [
    "\"\"\"\n",
    "Matrixify the data\n",
    "\"\"\"\n",
    "Xtr, ytr = matrixify(train_set)\n",
    "Xvl, yvl = matrixify(val_set)\n",
    "Xtt, ytt = matrixify(test_set)"
   ]
  },
  {
   "cell_type": "code",
   "execution_count": 15,
   "id": "5749558d",
   "metadata": {
    "scrolled": true
   },
   "outputs": [
    {
     "name": "stdout",
     "output_type": "stream",
     "text": [
      "Logistic Regression: Training Accuracy 0.6885 | Training AUROC 0.7612\n",
      "Logistic Regression: Testing Accuracy 0.6112 | Testing AUROC 0.6676\n"
     ]
    },
    {
     "data": {
      "text/plain": [
       "(LogisticRegression(max_iter=1000, random_state=2023),\n",
       " {'training_acc': 0.6884803563011004,\n",
       "  'training_auc': 0.761201984765892,\n",
       "  'testing_acc': 0.6112114695340501,\n",
       "  'testing_auc': 0.6675969037665499})"
      ]
     },
     "execution_count": 15,
     "metadata": {},
     "output_type": "execute_result"
    }
   ],
   "source": [
    "train_lgr(Xtr, ytr, Xtt, ytt)"
   ]
  },
  {
   "cell_type": "markdown",
   "id": "c12f1e00",
   "metadata": {},
   "source": [
    "LR model is ~ 60% accurate on testing set. Indicates our images are certainly not linearly separable!"
   ]
  },
  {
   "cell_type": "code",
   "execution_count": 16,
   "id": "47ba10be",
   "metadata": {
    "scrolled": true
   },
   "outputs": [
    {
     "name": "stdout",
     "output_type": "stream",
     "text": [
      "MLP Classifier: Training Accuracy 0.9992 | Training AUROC 0.9999\n",
      "MLP Classifier: Testing Accuracy 0.7747 | Testing AUROC 0.8617\n"
     ]
    },
    {
     "data": {
      "text/plain": [
       "(MLPClassifier(max_iter=500, random_state=2023),\n",
       " {'training_acc': 0.9991547601631963,\n",
       "  'training_auc': 0.9999137280456651,\n",
       "  'testing_acc': 0.7746523297491039,\n",
       "  'testing_auc': 0.8617320395883189})"
      ]
     },
     "execution_count": 16,
     "metadata": {},
     "output_type": "execute_result"
    }
   ],
   "source": [
    "train_mlp(Xtr, ytr, Xtt, ytt)"
   ]
  },
  {
   "cell_type": "markdown",
   "id": "02b4b939",
   "metadata": {},
   "source": [
    "MLP can achieve ~77% accuracy on test set. This is sensible: MLPs are nonlinear, so they would outperform a simple linear classifier."
   ]
  },
  {
   "cell_type": "code",
   "execution_count": 17,
   "id": "2b72b5be",
   "metadata": {},
   "outputs": [],
   "source": [
    "np.savez(os.path.join(cfg[\"data_dir\"], \"../numpy_files/data_splits\"),\n",
    "        Xtr=Xtr, ytr=ytr,\n",
    "        Xvl=Xvl, yvl=yvl,\n",
    "        Xtt=Xtt, ytt=ytt,\n",
    "        )"
   ]
  },
  {
   "cell_type": "markdown",
   "id": "0c3246a5",
   "metadata": {},
   "source": [
    "## Evaluation functions"
   ]
  },
  {
   "cell_type": "code",
   "execution_count": 19,
   "id": "38d8bb3e",
   "metadata": {},
   "outputs": [],
   "source": [
    "\"\"\"Compute distances per test image against train distribution\"\"\"\n",
    "def compute_distance(feature_train, feature_test):\n",
    "    # ntest x ntrain\n",
    "    time1 = time.time()\n",
    "    matrix = cdist(feature_test, feature_train, metric=\"cosine\")\n",
    "    print(\"...Computed distances! {:.4f} secs\".format(time.time()-time1))\n",
    "    return matrix"
   ]
  },
  {
   "cell_type": "code",
   "execution_count": 20,
   "id": "b18ab9ac",
   "metadata": {},
   "outputs": [],
   "source": [
    "\"\"\"Evaluate a feature space, binary labels\"\"\"\n",
    "class EvaluateFeatureSpace(ABC):\n",
    "    def __init__(self, model: nn.Module, device, y_train: np.ndarray,\\\n",
    "                 y_test: np.ndarray, subsample=True, n_sub=1000, random_seed=2023):\n",
    "        random.seed(random_seed)\n",
    "        \n",
    "        self.device = device\n",
    "        self.model = model\n",
    "        self.model = self.model.to(self.device)\n",
    "        self.feature_train = self.get_features(train_set)\n",
    "        self.y_train = y_train\n",
    "        self.feature_test = self.get_features(test_set)\n",
    "        self.y_test = y_test\n",
    "        \n",
    "        # Save the original features\n",
    "        self.original_attrs = {\n",
    "            \"y_train\": self.y_train,\n",
    "            \"training_features\": self.feature_train,\n",
    "            \"y_test\": self.y_test,\n",
    "            \"testing_features\": self.feature_test\n",
    "        }\n",
    "        \n",
    "        self.subsample = subsample\n",
    "        \n",
    "        if self.subsample:\n",
    "            idxs1 = random.sample(list(range(self.feature_train.shape[0])), k=n_sub)\n",
    "            idxs2 = random.sample(list(range(self.feature_test.shape[0])), k=n_sub)\n",
    "            self.feature_train = self.feature_train[idxs1,:]\n",
    "            self.y_train = y_train[idxs1]\n",
    "            self.feature_test = self.feature_test[idxs2,:]\n",
    "            self.y_test = y_test[idxs2]\n",
    "        \n",
    "        # Make a mask to easily query where the positive images are\n",
    "        self.y_train_mask = self.y_train==1\n",
    "        self.y_test_mask = self.y_test==1\n",
    "        \n",
    "    @abstractmethod\n",
    "    def get_features(self, dset: Dataset):\n",
    "        pass\n",
    "    \n",
    "    def eval_internal(self, suptitle):\n",
    "        dist_matrix = compute_distance(self.feature_train, self.feature_test)\n",
    "        dists = [[[], []], [[], []]]\n",
    "        # compute distributions\n",
    "        m00 = dist_matrix[~(self.y_test_mask),:]\n",
    "        m00 = m00[:,~(self.y_train_mask)]\n",
    "        dists[0][0] = np.mean(m00, axis=1)\n",
    "\n",
    "        m01 = dist_matrix[~(self.y_test_mask),:]\n",
    "        m01 = m01[:,self.y_train_mask]\n",
    "        dists[0][1] = np.mean(m01, axis=1)\n",
    "\n",
    "        ood_dist = np.mean(dist_matrix[~(self.y_test_mask),:], axis=1)\n",
    "\n",
    "        m10 = dist_matrix[self.y_test_mask,:]\n",
    "        m10 = m10[:,~(self.y_train_mask)]\n",
    "        dists[1][0] = np.mean(m10, axis=1)\n",
    "\n",
    "        m11 = dist_matrix[self.y_test_mask,:]\n",
    "        m11 = m11[:,self.y_train_mask]\n",
    "        dists[1][1] = np.mean(m11, axis=1)\n",
    "\n",
    "        id_dist = np.mean(dist_matrix[self.y_test_mask,:], axis=1)\n",
    "        \n",
    "        # plots\n",
    "        fig, ax = plt.subplots(1,2, sharey=True)\n",
    "        fig.tight_layout()\n",
    "\n",
    "        # cosine distance ranges from 0-2\n",
    "        # see https://docs.scipy.org/doc/scipy/reference/generated/scipy.spatial.distance.cosine.html\n",
    "        ax[0].set_xlim([0,2])\n",
    "        ax[1].set_xlim([0,2])\n",
    "        ax[0].set_ylim([0,0.5])\n",
    "\n",
    "        sns.histplot(dists[1][0], color=\"green\", label=\"tr=0\", kde=True, stat=\"probability\", ax=ax[0])\n",
    "        sns.histplot(dists[1][1], color=\"black\", label=\"tr=1\", kde=True, stat=\"probability\", ax=ax[0])\n",
    "        sns.histplot(id_dist, color=\"orange\", label=\"total\", kde=True, stat=\"probability\", ax=ax[0])\n",
    "\n",
    "        sns.histplot(dists[0][0], color=\"red\", label=\"tr=0\", kde=True, stat=\"probability\", ax=ax[1])\n",
    "        sns.histplot(dists[0][1], color=\"blue\", label=\"tr=1\", kde=True, stat=\"probability\", ax=ax[1])\n",
    "        sns.histplot(ood_dist, color=\"orange\", label=\"total\", kde=True, stat=\"probability\", ax=ax[1])\n",
    "\n",
    "        ax[0].set_title(\"ID Cosine Distance\")\n",
    "        ax[1].set_title(\"OOD Cosine Distance\")\n",
    "        ax[0].legend()\n",
    "        ax[1].legend()\n",
    "\n",
    "        plt.subplots_adjust(top=0.80)\n",
    "        fig.suptitle(suptitle)\n",
    "\n",
    "        plt.show()\n",
    "    \n",
    "    def eval_external(self, dset: Dataset, suptitle):\n",
    "        ftr_tt = self.get_features(dset)\n",
    "        dist_matrix = compute_distance(self.feature_train, ftr_tt)\n",
    "        # compute distributions\n",
    "        dists = [[], []]\n",
    "        m00 = dist_matrix[:,~(self.y_train_mask)]\n",
    "        dists[0] = np.mean(m00, axis=1)\n",
    "\n",
    "        m01 = dist_matrix[:,self.y_train_mask]\n",
    "        dists[1] = np.mean(m01, axis=1)\n",
    "\n",
    "        ood_dist = np.mean(dist_matrix, axis=1)\n",
    "        # plots\n",
    "        plt.xlim([0,2])\n",
    "        plt.ylim([0,0.5])\n",
    "        # histplot\n",
    "        sns.histplot(dists[0], color=\"red\", label=\"tr=0\", kde=True, stat=\"probability\")\n",
    "        sns.histplot(dists[1], color=\"blue\", label=\"tr=1\", kde=True, stat=\"probability\")\n",
    "        sns.histplot(ood_dist, color=\"orange\", label=\"total\", kde=True, stat=\"probability\")\n",
    "\n",
    "        plt.title(\"External Dataset Cosine Distance\")\n",
    "        plt.legend()\n",
    "\n",
    "        plt.subplots_adjust(top=0.80)\n",
    "        plt.suptitle(suptitle)\n",
    "\n",
    "        plt.show()\n"
   ]
  },
  {
   "cell_type": "markdown",
   "id": "40078bb3",
   "metadata": {},
   "source": [
    "## Learning features using a convolutional Autoencoder"
   ]
  },
  {
   "cell_type": "markdown",
   "id": "a4207153",
   "metadata": {},
   "source": [
    "No data augmentations"
   ]
  },
  {
   "cell_type": "code",
   "execution_count": 21,
   "id": "883be060",
   "metadata": {},
   "outputs": [],
   "source": [
    "\"\"\"\n",
    "Autoencoder\n",
    "\"\"\"\n",
    "class Encoder(nn.Module):\n",
    "    def __init__(self, c_hid=16, latent_dim=100):\n",
    "        super(Encoder, self).__init__()\n",
    "        self.network = nn.Sequential(\n",
    "            nn.Conv2d(3, c_hid, kernel_size=3, padding=1, stride=2),\n",
    "            nn.ReLU(),\n",
    "            nn.Conv2d(c_hid, c_hid, kernel_size=3, padding=1),\n",
    "            nn.ReLU(),\n",
    "            nn.Conv2d(c_hid, 2 * c_hid, kernel_size=3, padding=1, stride=2),\n",
    "            nn.ReLU(),\n",
    "            nn.Conv2d(2 * c_hid, 2 * c_hid, kernel_size=3, padding=1),\n",
    "            nn.ReLU(),\n",
    "            nn.Conv2d(2 * c_hid, 2 * c_hid, kernel_size=3, padding=1, stride=2),\n",
    "            nn.ReLU(),\n",
    "            nn.Flatten(),\n",
    "            nn.Linear(2 * 16 * c_hid, latent_dim),\n",
    "        )\n",
    "        \n",
    "        pass\n",
    "    def forward(self, x):\n",
    "        return self.network(x)\n",
    "    \n",
    "class Decoder(nn.Module):\n",
    "    def __init__(self, c_hid=16, latent_dim=100):\n",
    "        super(Decoder, self).__init__()\n",
    "        self.linear = nn.Sequential(nn.Linear(latent_dim, 2 * 16 * c_hid), nn.ReLU())\n",
    "        self.network = nn.Sequential(\n",
    "            nn.ConvTranspose2d(\n",
    "                2 * c_hid, 2 * c_hid, kernel_size=3, padding=1, stride=2\n",
    "            ),\n",
    "            nn.ReLU(),\n",
    "            nn.Conv2d(2 * c_hid, 2 * c_hid, kernel_size=3, padding=1),\n",
    "            nn.ReLU(),\n",
    "            nn.ConvTranspose2d(2 * c_hid, c_hid, kernel_size=3, output_padding=1, padding=1, stride=2),\n",
    "            nn.ReLU(),\n",
    "            nn.Conv2d(c_hid, c_hid, kernel_size=3, padding=1),\n",
    "            nn.ReLU(),\n",
    "            nn.ConvTranspose2d(\n",
    "                c_hid, 3, kernel_size=3, output_padding=1, padding=1, stride=2\n",
    "            ),\n",
    "            nn.Tanh(),\n",
    "        )\n",
    "    def forward(self, x):\n",
    "        z = self.linear(x)\n",
    "        z = z.reshape(z.shape[0], -1, 4, 4)\n",
    "        return self.network(z)\n",
    "\n",
    "class AutoEncoder(nn.Module):\n",
    "    def __init__(self, c_hid=16, latent_dim=100):\n",
    "        super(AutoEncoder, self).__init__()\n",
    "        self.encoder = Encoder(c_hid, latent_dim)\n",
    "        self.decoder = Decoder(c_hid, latent_dim)\n",
    "    def forward(self, x):\n",
    "        return self.decoder(self.encoder(x))\n",
    "    def get_features(self, x):\n",
    "        return self.encoder(x)"
   ]
  },
  {
   "cell_type": "code",
   "execution_count": 22,
   "id": "d2051381",
   "metadata": {
    "scrolled": true
   },
   "outputs": [
    {
     "name": "stdout",
     "output_type": "stream",
     "text": [
      "\n",
      "Device: cuda #: 3 #cpus: 96\n",
      "\n"
     ]
    }
   ],
   "source": [
    "\"\"\"Set gpus\"\"\"\n",
    "os.environ['CUDA_DEVICE_ORDER'] = 'PCI_BUS_ID'\n",
    "os.environ['CUDA_VISIBLE_DEVICES'] = \"3,4,5\"\n",
    "device = 'cpu'\n",
    "ncpus = os.cpu_count()\n",
    "dev_n = ncpus\n",
    "if torch.cuda.is_available():\n",
    "    device = 'cuda'\n",
    "    dev_n = torch.cuda.device_count()\n",
    "print('\\nDevice: {} #: {} #cpus: {}\\n'.format(device, dev_n, ncpus))"
   ]
  },
  {
   "cell_type": "code",
   "execution_count": 23,
   "id": "cc97a14c",
   "metadata": {},
   "outputs": [],
   "source": [
    "\"\"\"Save model (source: https://github.com/HobbitLong/SupContrast/blob/master/util.py)\"\"\"\n",
    "def save_model(model, optimizer, epch, hparams, fn):\n",
    "    print(\"=> Saving!\")\n",
    "    state = {\n",
    "        \"model\": model.state_dict(),\n",
    "        \"hparams\": hparams,\n",
    "        \"optimizer\": optimizer.state_dict(),\n",
    "        \"epoch\": epch\n",
    "    }\n",
    "    torch.save(state, fn)\n",
    "    del state"
   ]
  },
  {
   "cell_type": "code",
   "execution_count": 24,
   "id": "f3bc5863",
   "metadata": {},
   "outputs": [],
   "source": [
    "\"\"\"Load model\"\"\"\n",
    "def load_autoencoder(pth):\n",
    "    print(\"Loading! <= {}\".format(os.path.basename(pth)))\n",
    "    state = torch.load(pth)\n",
    "    hparams = state[\"hparams\"]\n",
    "    model = AutoEncoder(c_hid=hparams[\"c_hid\"], latent_dim=hparams[\"latent_dim\"])\n",
    "    model.load_state_dict(state[\"model\"])\n",
    "    model = model.to(hparams[\"device\"])\n",
    "    return model\n",
    "    \n",
    "\"\"\"Train model\"\"\"\n",
    "def train_autoencoder(tr_set, vl_set, hparams):\n",
    "    # loaders\n",
    "    train_loader = DataLoader(tr_set, batch_size=hparams[\"bs\"], shuffle=hparams[\"shuffle\"])\n",
    "    val_loader = DataLoader(vl_set, batch_size=hparams[\"bs\"], shuffle=hparams[\"shuffle\"])\n",
    "    # model\n",
    "    model = AutoEncoder(c_hid=hparams[\"c_hid\"], latent_dim=hparams[\"latent_dim\"])\n",
    "    model = model.to(hparams[\"device\"])\n",
    "    save_fl = os.path.join(hparams[\"save_dir\"], \"autoencoder_{}_{}.pt\".format(\n",
    "        tr_set.get_positive_name(),\n",
    "        time.time()\n",
    "    ))\n",
    "    # loss and optim\n",
    "    loss_fxn = torch.nn.MSELoss()\n",
    "    optimizer = torch.optim.AdamW(model.parameters(), lr=hparams[\"lr\"], weight_decay=hparams[\"wd\"])\n",
    "    # loop\n",
    "    train_loss_history = []\n",
    "    val_loss_history = []\n",
    "    stopping_step = 0\n",
    "    best_loss = np.inf\n",
    "    for e in range(hparams[\"max_epochs\"]):\n",
    "        # training\n",
    "        model.train()\n",
    "        train_loss = 0.0\n",
    "        for i, (images, labels) in enumerate(tqdm(train_loader)):\n",
    "            # number of images\n",
    "            n_images = images.shape[0]\n",
    "            # make grayscale into 3 channel\n",
    "            images = torch.cat([images, images, images], dim=1)\n",
    "            images = images.to(hparams[\"device\"])\n",
    "            # model output\n",
    "            outputs = model(images)\n",
    "            # compute loss\n",
    "            batch_loss = loss_fxn(images, outputs)\n",
    "            # optimizer step\n",
    "            optimizer.zero_grad()\n",
    "            batch_loss.backward()\n",
    "            optimizer.step()\n",
    "            # training loss\n",
    "            train_loss += batch_loss.item() * n_images\n",
    "        train_loss = train_loss / len(train_loader)\n",
    "        train_loss_history.append(train_loss)\n",
    "        # validation\n",
    "        model.eval()\n",
    "        val_loss = 0.0\n",
    "        for i, (images, labels) in enumerate(tqdm(val_loader)):\n",
    "            with torch.no_grad():\n",
    "                # number of images\n",
    "                n_images = images.shape[0]\n",
    "                # make grayscale into 3 channel\n",
    "                images = torch.cat([images, images, images], dim=1)\n",
    "                images = images.to(hparams[\"device\"])\n",
    "                # model output\n",
    "                outputs = model(images)\n",
    "                # compute loss\n",
    "                batch_loss = loss_fxn(images, outputs)\n",
    "                val_loss += batch_loss.item() * n_images\n",
    "        val_loss = val_loss / len(val_loader)\n",
    "        val_loss_history.append(val_loss)\n",
    "        print(\"Epoch {} | Training Loss {:.4f} | Validation Loss {:.4f}\".format(e, train_loss, val_loss))\n",
    "        # early breaking\n",
    "        if best_loss - val_loss > hparams[\"loss_threshold\"]:\n",
    "            stopping_step = 0\n",
    "            best_loss = val_loss\n",
    "            save_model(model, optimizer, e, hparams, save_fl)\n",
    "        else:\n",
    "            stopping_step += 1\n",
    "        if stopping_step >= hparams[\"break_patience\"]:\n",
    "            print(\"...Early breaking!\")\n",
    "            break\n",
    "    print(\"Model saved at: {}\".format(save_fl))\n",
    "    return model, train_loss_history, val_loss_history"
   ]
  },
  {
   "cell_type": "code",
   "execution_count": 25,
   "id": "95e0321e",
   "metadata": {},
   "outputs": [],
   "source": [
    "\"\"\"Hyperparameters\"\"\"\n",
    "autoenc_hparams = {\n",
    "    \"lr\": 1e-2,\n",
    "    \"wd\": 1e-3,\n",
    "    \"bs\": 32,\n",
    "    \"shuffle\": True,\n",
    "    \"max_epochs\": 100,\n",
    "    \"loss_threshold\": 1e-4,\n",
    "    \"break_patience\": 5,\n",
    "    \"c_hid\": 16,\n",
    "    \"latent_dim\": 100,\n",
    "    \"device\": device,\n",
    "    \"save_dir\": \"/cis/home/kvenka10/my_documents/contrastive-ood/saves/\"\n",
    "}"
   ]
  },
  {
   "cell_type": "code",
   "execution_count": 26,
   "id": "0623493d",
   "metadata": {
    "scrolled": true
   },
   "outputs": [
    {
     "name": "stdout",
     "output_type": "stream",
     "text": [
      "Loading! <= autoencoder_organamnist_1693262974.1492982.pt\n"
     ]
    }
   ],
   "source": [
    "# model, tr_h, val_h = train_autoencoder(train_set, val_set, autoenc_hparams)\n",
    "model = load_autoencoder(os.path.join(autoenc_hparams[\"save_dir\"], \"autoencoder_organamnist_1693262974.1492982.pt\"))"
   ]
  },
  {
   "cell_type": "code",
   "execution_count": 27,
   "id": "ac1d7928",
   "metadata": {},
   "outputs": [],
   "source": [
    "class EvaluateAutoEncoder(EvaluateFeatureSpace):\n",
    "    def get_features(self, dset: Dataset, return_loss=False):\n",
    "        self.model.eval()\n",
    "        loss_fxn = torch.nn.MSELoss()\n",
    "        features = []\n",
    "        loss = 0.0\n",
    "        ldr = DataLoader(dset, batch_size=32)\n",
    "        for j, (images, labels) in enumerate(tqdm(ldr)):\n",
    "            with torch.no_grad():\n",
    "                images = torch.cat([images, images, images], dim=1)\n",
    "                images = images.to(self.device)\n",
    "                fts = self.model.get_features(images).detach().cpu().numpy()\n",
    "                features.append(fts)\n",
    "                outputs = self.model(images)\n",
    "                batch_loss = loss_fxn(images, outputs)\n",
    "                loss += batch_loss.item() * (images.shape[0])\n",
    "        loss = loss / len(ldr)\n",
    "        if return_loss:\n",
    "            return np.vstack(features), loss\n",
    "        return np.vstack(features)"
   ]
  },
  {
   "cell_type": "code",
   "execution_count": 28,
   "id": "8e847b7b",
   "metadata": {
    "scrolled": true
   },
   "outputs": [
    {
     "name": "stderr",
     "output_type": "stream",
     "text": [
      "100%|██████████| 1923/1923 [00:10<00:00, 178.68it/s]\n",
      "100%|██████████| 1090/1090 [00:06<00:00, 180.36it/s]\n"
     ]
    }
   ],
   "source": [
    "evl = EvaluateAutoEncoder(model, autoenc_hparams[\"device\"], ytr, ytt, subsample=True)"
   ]
  },
  {
   "cell_type": "code",
   "execution_count": 37,
   "id": "b1007770",
   "metadata": {},
   "outputs": [],
   "source": [
    "\"\"\"Extract features from train/test set\"\"\"\n",
    "Ftr = evl.original_attrs[\"training_features\"]\n",
    "Ftt = evl.original_attrs[\"testing_features\"]"
   ]
  },
  {
   "cell_type": "code",
   "execution_count": 38,
   "id": "977fae75",
   "metadata": {},
   "outputs": [],
   "source": [
    "np.savez(os.path.join(cfg[\"data_dir\"], \"../numpy_files/autoencoder_features\"),\n",
    "        autoencoder_Ftr=Ftr,\n",
    "        autoencoder_Ftt=Ftt,\n",
    "        )"
   ]
  },
  {
   "cell_type": "code",
   "execution_count": 39,
   "id": "c84a6cbf",
   "metadata": {
    "scrolled": false
   },
   "outputs": [
    {
     "name": "stdout",
     "output_type": "stream",
     "text": [
      "...Computed distances! 0.0450 secs\n"
     ]
    },
    {
     "data": {
      "image/png": "[encoded data removed]",
      "text/plain": [
       "<Figure size 432x288 with 2 Axes>"
      ]
     },
     "metadata": {
      "needs_background": "light"
     },
     "output_type": "display_data"
    }
   ],
   "source": [
    "evl.eval_internal(\"Test Set\")"
   ]
  },
  {
   "cell_type": "markdown",
   "id": "15ec4022",
   "metadata": {},
   "source": [
    "## Train a traditional CNN classifier and extract features"
   ]
  },
  {
   "cell_type": "markdown",
   "id": "ea9251fe",
   "metadata": {},
   "source": [
    "Additional data augmentations (applied before ToTensor + Normalization): RandomResizedCrop, RandomRotation (+- 10 degrees)"
   ]
  },
  {
   "cell_type": "code",
   "execution_count": 40,
   "id": "8b2b564c",
   "metadata": {},
   "outputs": [
    {
     "name": "stdout",
     "output_type": "stream",
     "text": [
      "Using downloaded and verified file: /cis/home/kvenka10/my_documents/contrastive-ood/data/organamnist.npz\n",
      "Using downloaded and verified file: /cis/home/kvenka10/my_documents/contrastive-ood/data/organcmnist.npz\n",
      "Using downloaded and verified file: /cis/home/kvenka10/my_documents/contrastive-ood/data/organsmnist.npz\n",
      "Using downloaded and verified file: /cis/home/kvenka10/my_documents/contrastive-ood/data/organamnist.npz\n",
      "Using downloaded and verified file: /cis/home/kvenka10/my_documents/contrastive-ood/data/organcmnist.npz\n",
      "Using downloaded and verified file: /cis/home/kvenka10/my_documents/contrastive-ood/data/organsmnist.npz\n"
     ]
    }
   ],
   "source": [
    "\"\"\"CNN training with data augmentations\"\"\"\n",
    "cnn_aug = transforms.Compose([\n",
    "    transforms.RandomResizedCrop(size=28),\n",
    "    transforms.RandomRotation(10),\n",
    "    transforms.ToTensor(),\n",
    "    transforms.Normalize(mean=[.5], std=[.5])\n",
    "])\n",
    "\n",
    "\"\"\"training dataset\"\"\"\n",
    "cnn_train_set = AbnominalCTDataset(data_dir=cfg[\"data_dir\"], label_mode=\"cheap-supervised\",\n",
    "                       positive_dataset=positive_dataset, tfms=cnn_aug,\n",
    "                       split=\"train\")\n",
    "\n",
    "\"\"\"val dataset\"\"\"\n",
    "cnn_val_set = AbnominalCTDataset(data_dir=cfg[\"data_dir\"], label_mode=\"cheap-supervised\",\n",
    "                       positive_dataset=positive_dataset, tfms=cnn_aug,\n",
    "                       split=\"val\")"
   ]
  },
  {
   "cell_type": "code",
   "execution_count": 45,
   "id": "5d53857e",
   "metadata": {},
   "outputs": [],
   "source": [
    "\"\"\"Forward hook for ResNet\"\"\"\n",
    "cnn_layers = {}\n",
    "def get_inputs(name):\n",
    "    def hook(model, inpt, output):\n",
    "        cnn_layers[name] = inpt[0].detach()\n",
    "    return hook"
   ]
  },
  {
   "cell_type": "code",
   "execution_count": 46,
   "id": "3ddde792",
   "metadata": {},
   "outputs": [],
   "source": [
    "\"\"\"Load model\"\"\"\n",
    "def load_cnn(pth):\n",
    "    print(\"Loading! <= {}\".format(os.path.basename(pth)))\n",
    "    state = torch.load(pth)\n",
    "    hparams = state[\"hparams\"]\n",
    "    model = resnet18(pretrained=hparams[\"pretrained\"])\n",
    "    model.fc = torch.nn.Sequential(\n",
    "        torch.nn.Linear(in_features=512, out_features=2),\n",
    "        torch.nn.Sigmoid()\n",
    "    )\n",
    "    model.load_state_dict(state[\"model\"])\n",
    "    h = model.fc.register_forward_hook(get_inputs('fts'))\n",
    "    model = model.to(hparams[\"device\"]) \n",
    "    return model\n",
    "\n",
    "\"\"\"Train CNN\"\"\"\n",
    "def train_cnn(tr_set, vl_set, hparams):\n",
    "    # loaders\n",
    "    train_loader = DataLoader(tr_set, batch_size=hparams[\"bs\"], shuffle=hparams[\"shuffle\"])\n",
    "    val_loader = DataLoader(vl_set, batch_size=hparams[\"bs\"], shuffle=hparams[\"shuffle\"])\n",
    "    # model\n",
    "    save_fl = os.path.join(hparams[\"save_dir\"], \"resnet18_{}_{}.pt\".format(\n",
    "        tr_set.get_positive_name(),\n",
    "        time.time()\n",
    "    ))\n",
    "    # Init a model with forward hook for extracting features\n",
    "    model = resnet18(pretrained=hparams[\"pretrained\"])\n",
    "    model.fc = torch.nn.Sequential(\n",
    "        torch.nn.Linear(in_features=512, out_features=2),\n",
    "        torch.nn.Sigmoid()\n",
    "    )\n",
    "    h = model.fc.register_forward_hook(get_inputs('fts'))\n",
    "    model = model.to(hparams[\"device\"])   \n",
    "    # loss and optim\n",
    "    classification_loss_fxn = torch.nn.BCELoss()\n",
    "    optimizer = torch.optim.AdamW(model.parameters(), lr=hparams[\"lr\"], weight_decay=hparams[\"wd\"])\n",
    "    # loop\n",
    "    train_loss_history = []\n",
    "    val_loss_history = []\n",
    "    stopping_step = 0\n",
    "    best_loss = np.inf\n",
    "    for e in range(hparams[\"max_epochs\"]):\n",
    "        # training\n",
    "        model.train()\n",
    "        train_loss = 0.0\n",
    "        for i, (images, labels) in enumerate(tqdm(train_loader)):\n",
    "            # number of images\n",
    "            n_images = images.shape[0]\n",
    "            # make grayscale into 3 channel\n",
    "            images = torch.cat([images, images, images], dim=1)\n",
    "            images = images.to(hparams[\"device\"])\n",
    "            # make labels into one-hot\n",
    "            targets = torch.nn.functional.one_hot(labels, num_classes=2).float()\n",
    "            targets = targets.to(hparams[\"device\"])\n",
    "            # model output\n",
    "            outputs = model(images)\n",
    "            # compute loss\n",
    "            batch_loss = classification_loss_fxn(outputs, targets)\n",
    "            # optimizer step\n",
    "            optimizer.zero_grad()\n",
    "            batch_loss.backward()\n",
    "            optimizer.step()\n",
    "            # training loss\n",
    "            train_loss += batch_loss.item() * n_images\n",
    "        train_loss = train_loss / len(train_loader)\n",
    "        train_loss_history.append(train_loss)\n",
    "        # validation\n",
    "        model.eval()\n",
    "        val_loss = 0.0\n",
    "        for i, (images, labels) in enumerate(tqdm(val_loader)):\n",
    "            with torch.no_grad():\n",
    "                # number of images\n",
    "                n_images = images.shape[0]\n",
    "                # make grayscale into 3 channel\n",
    "                images = torch.cat([images, images, images], dim=1)\n",
    "                images = images.to(hparams[\"device\"])\n",
    "                # make labels into one-hot\n",
    "                targets = torch.nn.functional.one_hot(labels, num_classes=2).float()\n",
    "                targets = targets.to(hparams[\"device\"])\n",
    "                # model output\n",
    "                outputs = model(images)\n",
    "                # compute loss\n",
    "                batch_loss = classification_loss_fxn(outputs, targets)\n",
    "                val_loss += batch_loss.item() * n_images\n",
    "        val_loss = val_loss / len(val_loader)\n",
    "        val_loss_history.append(val_loss)\n",
    "        print(\"Epoch {} | Training Loss {:.4f} | Validation Loss {:.4f}\".format(e, train_loss, val_loss))\n",
    "        # early breaking\n",
    "        if best_loss - val_loss > hparams[\"loss_threshold\"]:\n",
    "            stopping_step = 0\n",
    "            best_loss = val_loss\n",
    "            save_model(model, optimizer, e, hparams, save_fl)\n",
    "        else:\n",
    "            stopping_step += 1\n",
    "        if stopping_step >= hparams[\"break_patience\"]:\n",
    "            print(\"...Early breaking!\")\n",
    "            break\n",
    "    print(\"Model saved at: {}\".format(save_fl))\n",
    "    return model, h, train_loss_history, val_loss_history"
   ]
  },
  {
   "cell_type": "code",
   "execution_count": 47,
   "id": "f703ce4f",
   "metadata": {},
   "outputs": [],
   "source": [
    "\"\"\"ResNet Hyperparameters\"\"\"\n",
    "cnn_hparams = {\n",
    "    \"pretrained\": True,\n",
    "    \"lr\": 1e-2,\n",
    "    \"wd\": 1e-3,\n",
    "    \"bs\": 32,\n",
    "    \"shuffle\": True,\n",
    "    \"max_epochs\": 100,\n",
    "    \"loss_threshold\": 1e-4,\n",
    "    \"break_patience\": 5,\n",
    "    \"device\": device,\n",
    "    \"save_dir\": \"/cis/home/kvenka10/my_documents/contrastive-ood/saves/\"\n",
    "}"
   ]
  },
  {
   "cell_type": "code",
   "execution_count": 48,
   "id": "8536f80c",
   "metadata": {},
   "outputs": [
    {
     "name": "stdout",
     "output_type": "stream",
     "text": [
      "Loading! <= resnet18_organamnist_1693907738.0702972.pt\n"
     ]
    }
   ],
   "source": [
    "\"\"\"Train a ResNet18 (w/ data augs) to classify\"\"\"\n",
    "# cnn, h, tr_h, val_h = train_cnn(cnn_train_set, cnn_val_set, cnn_hparams)\n",
    "cnn = load_cnn(os.path.join(cnn_hparams[\"save_dir\"], \"resnet18_organamnist_1693907738.0702972.pt\"))"
   ]
  },
  {
   "cell_type": "code",
   "execution_count": 49,
   "id": "0f6fc2ce",
   "metadata": {},
   "outputs": [],
   "source": [
    "class EvaluateCNN(EvaluateFeatureSpace):\n",
    "    def get_features(self, dset):\n",
    "        self.model.eval()\n",
    "        features = []\n",
    "        classification_loss_fxn = torch.nn.BCELoss()\n",
    "        loss = 0.0\n",
    "        ldr = DataLoader(dset, batch_size=32)\n",
    "        for j, (images, labels) in enumerate(tqdm(ldr)):\n",
    "            with torch.no_grad():\n",
    "                images = torch.cat([images, images, images], dim=1)\n",
    "                images = images.to(self.device)\n",
    "                outputs = self.model(images)\n",
    "                features.append(cnn_layers['fts'].detach().cpu().numpy())\n",
    "        return np.vstack(features)"
   ]
  },
  {
   "cell_type": "code",
   "execution_count": 50,
   "id": "664c7426",
   "metadata": {
    "scrolled": true
   },
   "outputs": [
    {
     "name": "stderr",
     "output_type": "stream",
     "text": [
      "100%|██████████| 1923/1923 [00:15<00:00, 125.79it/s]\n",
      "100%|██████████| 1090/1090 [00:08<00:00, 127.03it/s]\n"
     ]
    }
   ],
   "source": [
    "evl = EvaluateCNN(cnn, autoenc_hparams[\"device\"], ytr, ytt, subsample=True)"
   ]
  },
  {
   "cell_type": "code",
   "execution_count": 51,
   "id": "36f35dfc",
   "metadata": {
    "scrolled": true
   },
   "outputs": [],
   "source": [
    "\"\"\"Extract features from train/test set\"\"\"\n",
    "cnn_Ftr = evl.original_attrs[\"training_features\"]\n",
    "cnn_Ftt = evl.original_attrs[\"testing_features\"]"
   ]
  },
  {
   "cell_type": "code",
   "execution_count": 52,
   "id": "fb471d04",
   "metadata": {},
   "outputs": [],
   "source": [
    "np.savez(os.path.join(cfg[\"data_dir\"], \"../numpy_files/cnn_features\"),\n",
    "        cnn_Ftr=cnn_Ftr,\n",
    "        cnn_Ftt=cnn_Ftt,\n",
    "        )"
   ]
  },
  {
   "cell_type": "code",
   "execution_count": 53,
   "id": "ef919bf4",
   "metadata": {
    "scrolled": false
   },
   "outputs": [
    {
     "name": "stdout",
     "output_type": "stream",
     "text": [
      "...Computed distances! 0.2845 secs\n"
     ]
    },
    {
     "data": {
      "image/png": "[encoded data removed]",
      "text/plain": [
       "<Figure size 432x288 with 2 Axes>"
      ]
     },
     "metadata": {
      "needs_background": "light"
     },
     "output_type": "display_data"
    }
   ],
   "source": [
    "evl.eval_internal(\"Test Set\")"
   ]
  },
  {
   "cell_type": "markdown",
   "id": "b6c44017",
   "metadata": {},
   "source": [
    "## Get contrastive features"
   ]
  },
  {
   "cell_type": "code",
   "execution_count": 54,
   "id": "b349b4d6",
   "metadata": {},
   "outputs": [],
   "source": [
    "\"\"\"Load contrastive model\"\"\"\n",
    "saves_dir = \"/cis/home/kvenka10/my_documents/contrastive-ood/saves\"\n",
    "def load_ctr(pth, device):\n",
    "    d = torch.load(pth)\n",
    "    model = SupConResNet(name=d[\"opt\"][\"model\"], head=d[\"opt\"][\"projection\"])\n",
    "    model.load_state_dict(d[\"model\"])\n",
    "    model = model.to(device)\n",
    "    return model"
   ]
  },
  {
   "cell_type": "code",
   "execution_count": 55,
   "id": "a0a02353",
   "metadata": {},
   "outputs": [],
   "source": [
    "class EvaluateCTR(EvaluateFeatureSpace):\n",
    "    def get_features(self, dset):\n",
    "        self.model.eval()\n",
    "        features = []\n",
    "        ldr = DataLoader(dset, batch_size=32)\n",
    "        for j, (images, labels) in enumerate(tqdm(ldr)):\n",
    "            with torch.no_grad():\n",
    "                images = torch.cat([images, images, images], dim=1)\n",
    "                images = images.to(self.device)\n",
    "                outputs = self.model.encoder(images)\n",
    "                norm_outputs = F.normalize(outputs)\n",
    "                features.append(norm_outputs.detach().cpu().numpy())\n",
    "        return np.vstack(features)"
   ]
  },
  {
   "cell_type": "code",
   "execution_count": 56,
   "id": "d0e45eb2",
   "metadata": {},
   "outputs": [],
   "source": [
    "\"\"\"Load a trained supervised contrastive model (see tmp5)\"\"\"\n",
    "sup_con_fl = \"SupCon_resnet18_lr_0.05_decay_0.0001_bsz_256_temp_0.07_time_1693907762.1193209\"\n",
    "sup_con_model = load_ctr(os.path.join(saves_dir, sup_con_fl, \"best.pth\"), device)"
   ]
  },
  {
   "cell_type": "code",
   "execution_count": 58,
   "id": "06aabd88",
   "metadata": {
    "scrolled": true
   },
   "outputs": [
    {
     "name": "stderr",
     "output_type": "stream",
     "text": [
      "100%|██████████| 1923/1923 [00:18<00:00, 103.86it/s]\n",
      "100%|██████████| 1090/1090 [00:10<00:00, 101.83it/s]\n"
     ]
    }
   ],
   "source": [
    "supcon_evl = EvaluateCTR(sup_con_model, device, ytr, ytt, subsample=True)"
   ]
  },
  {
   "cell_type": "code",
   "execution_count": 59,
   "id": "3967ff6e",
   "metadata": {},
   "outputs": [],
   "source": [
    "sup_con_Ftr = supcon_evl.original_attrs[\"training_features\"]\n",
    "sup_con_Ftt = supcon_evl.original_attrs[\"testing_features\"]"
   ]
  },
  {
   "cell_type": "code",
   "execution_count": 61,
   "id": "a0e0c040",
   "metadata": {},
   "outputs": [],
   "source": [
    "np.savez(os.path.join(cfg[\"data_dir\"], \"../numpy_files/ctr_features\"),\n",
    "        ctr_Ftr=sup_con_Ftr,\n",
    "        ctr_Ftt=sup_con_Ftt,\n",
    "        )"
   ]
  },
  {
   "cell_type": "code",
   "execution_count": 62,
   "id": "65c10efc",
   "metadata": {
    "scrolled": false
   },
   "outputs": [
    {
     "name": "stdout",
     "output_type": "stream",
     "text": [
      "...Computed distances! 0.2760 secs\n"
     ]
    },
    {
     "data": {
      "image/png": "[encoded data removed]",
      "text/plain": [
       "<Figure size 432x288 with 2 Axes>"
      ]
     },
     "metadata": {
      "needs_background": "light"
     },
     "output_type": "display_data"
    }
   ],
   "source": [
    "supcon_evl.eval_internal(\"Test Set\")"
   ]
  },
  {
   "cell_type": "code",
   "execution_count": null,
   "id": "3ef42863",
   "metadata": {},
   "outputs": [],
   "source": []
  }
 ],
 "metadata": {
  "kernelspec": {
   "display_name": "Python 3",
   "language": "python",
   "name": "python3"
  },
  "language_info": {
   "codemirror_mode": {
    "name": "ipython",
    "version": 3
   },
   "file_extension": ".py",
   "mimetype": "text/x-python",
   "name": "python",
   "nbconvert_exporter": "python",
   "pygments_lexer": "ipython3",
   "version": "3.6.9"
  }
 },
 "nbformat": 4,
 "nbformat_minor": 5
}
